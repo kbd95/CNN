{
  "nbformat": 4,
  "nbformat_minor": 0,
  "metadata": {
    "colab": {
      "name": "Alexnet.ipynb",
      "provenance": [],
      "authorship_tag": "ABX9TyPTMWcQli1tkTlD7zLJzY4i",
      "include_colab_link": true
    },
    "kernelspec": {
      "name": "python3",
      "display_name": "Python 3"
    },
    "language_info": {
      "name": "python"
    }
  },
  "cells": [
    {
      "cell_type": "markdown",
      "metadata": {
        "id": "view-in-github",
        "colab_type": "text"
      },
      "source": [
        "<a href=\"https://colab.research.google.com/github/kbd95/Computer-Vision-CV-/blob/main/Alexnet.ipynb\" target=\"_parent\"><img src=\"https://colab.research.google.com/assets/colab-badge.svg\" alt=\"Open In Colab\"/></a>"
      ]
    },
    {
      "cell_type": "code",
      "metadata": {
        "id": "Vez_ggWa11yf",
        "colab": {
          "base_uri": "https://localhost:8080/"
        },
        "outputId": "36178a97-891a-4467-da97-a053ebc693a5"
      },
      "source": [
        "!pip install tflearn"
      ],
      "execution_count": 4,
      "outputs": [
        {
          "output_type": "stream",
          "text": [
            "Collecting tflearn\n",
            "  Downloading tflearn-0.5.0.tar.gz (107 kB)\n",
            "\u001b[?25l\r\u001b[K     |███                             | 10 kB 18.7 MB/s eta 0:00:01\r\u001b[K     |██████                          | 20 kB 23.1 MB/s eta 0:00:01\r\u001b[K     |█████████▏                      | 30 kB 26.1 MB/s eta 0:00:01\r\u001b[K     |████████████▏                   | 40 kB 27.2 MB/s eta 0:00:01\r\u001b[K     |███████████████▎                | 51 kB 23.6 MB/s eta 0:00:01\r\u001b[K     |██████████████████▎             | 61 kB 15.0 MB/s eta 0:00:01\r\u001b[K     |█████████████████████▍          | 71 kB 14.1 MB/s eta 0:00:01\r\u001b[K     |████████████████████████▍       | 81 kB 15.5 MB/s eta 0:00:01\r\u001b[K     |███████████████████████████▌    | 92 kB 16.7 MB/s eta 0:00:01\r\u001b[K     |██████████████████████████████▌ | 102 kB 18.1 MB/s eta 0:00:01\r\u001b[K     |████████████████████████████████| 107 kB 18.1 MB/s \n",
            "\u001b[?25hRequirement already satisfied: numpy in /usr/local/lib/python3.7/dist-packages (from tflearn) (1.19.5)\n",
            "Requirement already satisfied: six in /usr/local/lib/python3.7/dist-packages (from tflearn) (1.15.0)\n",
            "Requirement already satisfied: Pillow in /usr/local/lib/python3.7/dist-packages (from tflearn) (7.1.2)\n",
            "Building wheels for collected packages: tflearn\n",
            "  Building wheel for tflearn (setup.py) ... \u001b[?25l\u001b[?25hdone\n",
            "  Created wheel for tflearn: filename=tflearn-0.5.0-py3-none-any.whl size=127299 sha256=9b2c5816a01f6d825f680a6f918d1d79321addde7900657bc2f808f0f3d14689\n",
            "  Stored in directory: /root/.cache/pip/wheels/5f/14/2e/1d8e28cc47a5a931a2fb82438c9e37ef9246cc6a3774520271\n",
            "Successfully built tflearn\n",
            "Installing collected packages: tflearn\n",
            "Successfully installed tflearn-0.5.0\n"
          ],
          "name": "stdout"
        }
      ]
    },
    {
      "cell_type": "code",
      "metadata": {
        "id": "fwt5foSwI49I"
      },
      "source": [
        "import keras\n",
        "from keras.models import Sequential\n",
        "from keras.layers import  Dense, Activation, Dropout, Flatten,Conv2D, MaxPooling2D\n",
        "from keras.layers import BatchNormalization\n",
        "import numpy as np\n",
        "np.random.seed(1000)"
      ],
      "execution_count": 5,
      "outputs": []
    },
    {
      "cell_type": "code",
      "metadata": {
        "colab": {
          "base_uri": "https://localhost:8080/"
        },
        "id": "PoexWNxBKnC8",
        "outputId": "869e1380-3e36-4176-c098-937f32559495"
      },
      "source": [
        "# Get a data\n",
        "import tflearn.datasets.oxflower17 as oxflower17\n",
        "x,y = oxflower17.load_data(one_hot = True)"
      ],
      "execution_count": 6,
      "outputs": [
        {
          "output_type": "stream",
          "text": [
            "WARNING:tensorflow:From /usr/local/lib/python3.7/dist-packages/tensorflow/python/compat/v2_compat.py:101: disable_resource_variables (from tensorflow.python.ops.variable_scope) is deprecated and will be removed in a future version.\n",
            "Instructions for updating:\n",
            "non-resource variables are not supported in the long term\n",
            "Downloading Oxford 17 category Flower Dataset, Please wait...\n"
          ],
          "name": "stdout"
        },
        {
          "output_type": "stream",
          "text": [
            "100.0% 60276736 / 60270631\n"
          ],
          "name": "stderr"
        },
        {
          "output_type": "stream",
          "text": [
            "Succesfully downloaded 17flowers.tgz 60270631 bytes.\n",
            "File Extracted\n",
            "Starting to parse images...\n",
            "Parsing Done!\n"
          ],
          "name": "stdout"
        }
      ]
    },
    {
      "cell_type": "code",
      "metadata": {
        "colab": {
          "base_uri": "https://localhost:8080/"
        },
        "id": "9hlioHt4e_nn",
        "outputId": "1e3714a9-ce83-41a7-c613-27a15af2f02c"
      },
      "source": [
        "x.shape"
      ],
      "execution_count": 7,
      "outputs": [
        {
          "output_type": "execute_result",
          "data": {
            "text/plain": [
              "(1360, 224, 224, 3)"
            ]
          },
          "metadata": {},
          "execution_count": 7
        }
      ]
    },
    {
      "cell_type": "code",
      "metadata": {
        "id": "GMjzn3ofej6e"
      },
      "source": [
        "model = Sequential()\n",
        "# 1st convolution layer\n",
        "model.add(Conv2D(filters=96,input_shape= (224,224,3),kernel_size=(11,11),strides=(4,4),padding=\"valid\"))\n",
        "model.add(Activation(\"relu\"))\n",
        "#Pooling\n",
        "model.add(MaxPooling2D(pool_size=(2,2),strides=(2,2),padding=\"valid\"))\n",
        "# Batchnormalization before passing it to the next layers\n",
        "model.add(BatchNormalization())\n",
        "\n",
        "# 2nd convolution layer\n",
        "model.add(Conv2D(filters=256,kernel_size=(11,11),strides=(1,1),padding=\"valid\"))\n",
        "model.add(Activation(\"relu\"))\n",
        "# Pooling\n",
        "model.add(MaxPooling2D(pool_size=(2,2),strides =(2,2),padding = \"valid\"))\n",
        "#Batch Normalisation\n",
        "model.add(BatchNormalization())\n",
        "\n",
        "#3rd Convolution\n",
        "model.add(Conv2D(filters = 384, kernel_size=(3,3),strides=(1,1),padding=\"valid\"))\n",
        "model.add(Activation(\"relu\"))\n",
        "# Batch Normalisation\n",
        "model.add(BatchNormalization())\n",
        "\n",
        "#4th Convolution\n",
        "model.add(Conv2D(filters = 384, kernel_size=(3,3),strides=(1,1),padding=\"valid\"))\n",
        "model.add(Activation(\"relu\"))\n",
        "# Batch Normalisation\n",
        "model.add(BatchNormalization())\n",
        "\n",
        "# 5th Convolution\n",
        "model.add(Conv2D(filters=256,kernel_size=(3,3),strides=(1,1),padding = \"valid\"))\n",
        "model.add(Activation(\"relu\"))\n",
        "# Pooling\n",
        "model.add(MaxPooling2D(pool_size=(2,2), strides=(2,2), padding='valid'))\n",
        "# Batch Normalisation\n",
        "model.add(BatchNormalization())\n",
        "\n",
        "\n",
        "# Dense Layer\n",
        "\n",
        "model.add(Flatten())\n",
        "#1st Dense layer\n",
        "model.add(Dense(4096,input_shape=(224*224*3,)))\n",
        "model.add(Activation(\"relu\"))\n",
        "# Add droupout to prevent overfitting\n",
        "model.add(Dropout(0.4))\n",
        "#BatchNormalisation\n",
        "model.add(BatchNormalization())\n",
        "\n",
        "# 2nd Dense layer\n",
        "model.add(Dense(4096))\n",
        "model.add(Activation(\"relu\"))\n",
        "model.add(Dropout(0.4))\n",
        "model.add(BatchNormalization())\n",
        "\n",
        "# 3rd Dense layer\n",
        "model.add(Dense(1000))\n",
        "model.add(Activation(\"relu\"))\n",
        "model.add(Dropout(0.4))\n",
        "model.add(BatchNormalization())\n",
        "\n",
        "# output layer\n",
        "model.add(Dense(17))\n",
        "model.add(Activation(\"softmax\"))"
      ],
      "execution_count": 31,
      "outputs": []
    },
    {
      "cell_type": "code",
      "metadata": {
        "colab": {
          "base_uri": "https://localhost:8080/"
        },
        "id": "Yf-f6sf8lQRu",
        "outputId": "283d1e8f-7021-469e-aacd-07815f8a942e"
      },
      "source": [
        "model.summary()"
      ],
      "execution_count": 32,
      "outputs": [
        {
          "output_type": "stream",
          "text": [
            "Model: \"sequential_23\"\n",
            "_________________________________________________________________\n",
            "Layer (type)                 Output Shape              Param #   \n",
            "=================================================================\n",
            "conv2d_87 (Conv2D)           (None, 54, 54, 96)        34944     \n",
            "_________________________________________________________________\n",
            "activation_101 (Activation)  (None, 54, 54, 96)        0         \n",
            "_________________________________________________________________\n",
            "max_pooling2d_50 (MaxPooling (None, 27, 27, 96)        0         \n",
            "_________________________________________________________________\n",
            "batch_normalization_86 (Batc (None, 27, 27, 96)        384       \n",
            "_________________________________________________________________\n",
            "conv2d_88 (Conv2D)           (None, 17, 17, 256)       2973952   \n",
            "_________________________________________________________________\n",
            "activation_102 (Activation)  (None, 17, 17, 256)       0         \n",
            "_________________________________________________________________\n",
            "max_pooling2d_51 (MaxPooling (None, 8, 8, 256)         0         \n",
            "_________________________________________________________________\n",
            "batch_normalization_87 (Batc (None, 8, 8, 256)         1024      \n",
            "_________________________________________________________________\n",
            "conv2d_89 (Conv2D)           (None, 6, 6, 384)         885120    \n",
            "_________________________________________________________________\n",
            "activation_103 (Activation)  (None, 6, 6, 384)         0         \n",
            "_________________________________________________________________\n",
            "batch_normalization_88 (Batc (None, 6, 6, 384)         1536      \n",
            "_________________________________________________________________\n",
            "conv2d_90 (Conv2D)           (None, 4, 4, 384)         1327488   \n",
            "_________________________________________________________________\n",
            "activation_104 (Activation)  (None, 4, 4, 384)         0         \n",
            "_________________________________________________________________\n",
            "batch_normalization_89 (Batc (None, 4, 4, 384)         1536      \n",
            "_________________________________________________________________\n",
            "conv2d_91 (Conv2D)           (None, 2, 2, 256)         884992    \n",
            "_________________________________________________________________\n",
            "activation_105 (Activation)  (None, 2, 2, 256)         0         \n",
            "_________________________________________________________________\n",
            "max_pooling2d_52 (MaxPooling (None, 1, 1, 256)         0         \n",
            "_________________________________________________________________\n",
            "batch_normalization_90 (Batc (None, 1, 1, 256)         1024      \n",
            "_________________________________________________________________\n",
            "flatten_12 (Flatten)         (None, 256)               0         \n",
            "_________________________________________________________________\n",
            "dense_21 (Dense)             (None, 4096)              1052672   \n",
            "_________________________________________________________________\n",
            "activation_106 (Activation)  (None, 4096)              0         \n",
            "_________________________________________________________________\n",
            "dropout_14 (Dropout)         (None, 4096)              0         \n",
            "_________________________________________________________________\n",
            "batch_normalization_91 (Batc (None, 4096)              16384     \n",
            "_________________________________________________________________\n",
            "dense_22 (Dense)             (None, 4096)              16781312  \n",
            "_________________________________________________________________\n",
            "activation_107 (Activation)  (None, 4096)              0         \n",
            "_________________________________________________________________\n",
            "dropout_15 (Dropout)         (None, 4096)              0         \n",
            "_________________________________________________________________\n",
            "batch_normalization_92 (Batc (None, 4096)              16384     \n",
            "_________________________________________________________________\n",
            "dense_23 (Dense)             (None, 1000)              4097000   \n",
            "_________________________________________________________________\n",
            "activation_108 (Activation)  (None, 1000)              0         \n",
            "_________________________________________________________________\n",
            "dropout_16 (Dropout)         (None, 1000)              0         \n",
            "_________________________________________________________________\n",
            "batch_normalization_93 (Batc (None, 1000)              4000      \n",
            "_________________________________________________________________\n",
            "dense_24 (Dense)             (None, 17)                17017     \n",
            "_________________________________________________________________\n",
            "activation_109 (Activation)  (None, 17)                0         \n",
            "=================================================================\n",
            "Total params: 28,096,769\n",
            "Trainable params: 28,075,633\n",
            "Non-trainable params: 21,136\n",
            "_________________________________________________________________\n"
          ],
          "name": "stdout"
        }
      ]
    },
    {
      "cell_type": "code",
      "metadata": {
        "id": "1H8Z19Felf34"
      },
      "source": [
        "model.compile(loss='categorical_crossentropy', optimizer='adam', metrics=['accuracy'])"
      ],
      "execution_count": 33,
      "outputs": []
    },
    {
      "cell_type": "code",
      "metadata": {
        "colab": {
          "base_uri": "https://localhost:8080/"
        },
        "id": "LdYRvNwPltoP",
        "outputId": "fb6d1bf5-79d3-48c2-910e-9e5fdb9ab63d"
      },
      "source": [
        "model.fit(x, y, batch_size=64, epochs=1,verbose=1,validation_split=0.2, shuffle=True)"
      ],
      "execution_count": 36,
      "outputs": [
        {
          "output_type": "stream",
          "text": [
            "Train on 1088 samples, validate on 272 samples\n",
            "1088/1088 [==============================] - 125s 115ms/sample - loss: 1.8738 - acc: 0.4127 - val_loss: 17.5256 - val_acc: 0.0735\n"
          ],
          "name": "stdout"
        },
        {
          "output_type": "execute_result",
          "data": {
            "text/plain": [
              "<keras.callbacks.History at 0x7f716de78a10>"
            ]
          },
          "metadata": {},
          "execution_count": 36
        }
      ]
    }
  ]
}